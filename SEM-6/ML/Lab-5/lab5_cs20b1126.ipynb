{
 "cells": [
  {
   "cell_type": "markdown",
   "id": "200ddd6a",
   "metadata": {},
   "source": [
    "# LAB5\n",
    "\n",
    "NAME= G.KAVYASRI\n",
    "ROLL= CS20B1126\n",
    "\n",
    "'''\n",
    "\n",
    "\n",
    "1.Perform Fisher Discriminant Analysis on pima-indians-diabetes.csv\n",
    "\n",
    "2. Perform Decision Tree classification on pima-indians-diabetes.csv\n",
    "\n",
    "3. Perform Fisher Discriminant Analysis on pima-indians-diabetes.csv and then perform decision tree classification. compare the results.\n",
    "\n",
    "colums in csv file is in this order;\n",
    "Fields description follow:\n",
    "A. preg = Number of times pregnant\n",
    "\n",
    "B. plas = Plasma glucose concentration a 2 hours in an oral glucose tolerance test\n",
    "\n",
    "C. pres = Diastolic blood pressure (mm Hg)\n",
    "\n",
    "D. skin = Triceps skin fold thickness (mm)\n",
    "\n",
    "E. test = 2-Hour serum insulin (mu U/ml)\n",
    "\n",
    "F. mass = Body mass index (weight in kg/(height in m)^2)\n",
    "\n",
    "g. pedi = Diabetes pedigree function\n",
    "\n",
    "H. age = Age (years)\n",
    "\n",
    "I. class = Class variable (1:tested positive for diabetes, 0: tested negative for diabetes)\n",
    "\n",
    "\n",
    "'''"
   ]
  },
  {
   "cell_type": "markdown",
   "id": "30bd8472",
   "metadata": {},
   "source": [
    "# Fisher Discriminant Analysis"
   ]
  },
  {
   "cell_type": "markdown",
   "id": "d643641e",
   "metadata": {},
   "source": [
    "1.Perform Fisher Discriminant Analysis on pima-indians-diabetes.csv"
   ]
  },
  {
   "cell_type": "code",
   "execution_count": 1125,
   "id": "c41a7120",
   "metadata": {},
   "outputs": [],
   "source": [
    "import numpy as np\n",
    "from numpy import linalg as LA\n",
    "import pandas as pd\n",
    "import matplotlib.pyplot as plt\n",
    "from sklearn.model_selection import train_test_split\n",
    "from sklearn import metrics"
   ]
  },
  {
   "cell_type": "code",
   "execution_count": 1126,
   "id": "e0ebe7b3",
   "metadata": {},
   "outputs": [
    {
     "data": {
      "text/html": [
       "<div>\n",
       "<style scoped>\n",
       "    .dataframe tbody tr th:only-of-type {\n",
       "        vertical-align: middle;\n",
       "    }\n",
       "\n",
       "    .dataframe tbody tr th {\n",
       "        vertical-align: top;\n",
       "    }\n",
       "\n",
       "    .dataframe thead th {\n",
       "        text-align: right;\n",
       "    }\n",
       "</style>\n",
       "<table border=\"1\" class=\"dataframe\">\n",
       "  <thead>\n",
       "    <tr style=\"text-align: right;\">\n",
       "      <th></th>\n",
       "      <th>preg</th>\n",
       "      <th>plas</th>\n",
       "      <th>pres</th>\n",
       "      <th>skin</th>\n",
       "      <th>test</th>\n",
       "      <th>mass</th>\n",
       "      <th>pedi</th>\n",
       "      <th>age</th>\n",
       "      <th>class</th>\n",
       "    </tr>\n",
       "  </thead>\n",
       "  <tbody>\n",
       "    <tr>\n",
       "      <th>0</th>\n",
       "      <td>6</td>\n",
       "      <td>148</td>\n",
       "      <td>72</td>\n",
       "      <td>35</td>\n",
       "      <td>0</td>\n",
       "      <td>33.6</td>\n",
       "      <td>0.627</td>\n",
       "      <td>50</td>\n",
       "      <td>1</td>\n",
       "    </tr>\n",
       "    <tr>\n",
       "      <th>1</th>\n",
       "      <td>1</td>\n",
       "      <td>85</td>\n",
       "      <td>66</td>\n",
       "      <td>29</td>\n",
       "      <td>0</td>\n",
       "      <td>26.6</td>\n",
       "      <td>0.351</td>\n",
       "      <td>31</td>\n",
       "      <td>0</td>\n",
       "    </tr>\n",
       "    <tr>\n",
       "      <th>2</th>\n",
       "      <td>8</td>\n",
       "      <td>183</td>\n",
       "      <td>64</td>\n",
       "      <td>0</td>\n",
       "      <td>0</td>\n",
       "      <td>23.3</td>\n",
       "      <td>0.672</td>\n",
       "      <td>32</td>\n",
       "      <td>1</td>\n",
       "    </tr>\n",
       "    <tr>\n",
       "      <th>3</th>\n",
       "      <td>1</td>\n",
       "      <td>89</td>\n",
       "      <td>66</td>\n",
       "      <td>23</td>\n",
       "      <td>94</td>\n",
       "      <td>28.1</td>\n",
       "      <td>0.167</td>\n",
       "      <td>21</td>\n",
       "      <td>0</td>\n",
       "    </tr>\n",
       "    <tr>\n",
       "      <th>4</th>\n",
       "      <td>0</td>\n",
       "      <td>137</td>\n",
       "      <td>40</td>\n",
       "      <td>35</td>\n",
       "      <td>168</td>\n",
       "      <td>43.1</td>\n",
       "      <td>2.288</td>\n",
       "      <td>33</td>\n",
       "      <td>1</td>\n",
       "    </tr>\n",
       "    <tr>\n",
       "      <th>...</th>\n",
       "      <td>...</td>\n",
       "      <td>...</td>\n",
       "      <td>...</td>\n",
       "      <td>...</td>\n",
       "      <td>...</td>\n",
       "      <td>...</td>\n",
       "      <td>...</td>\n",
       "      <td>...</td>\n",
       "      <td>...</td>\n",
       "    </tr>\n",
       "    <tr>\n",
       "      <th>763</th>\n",
       "      <td>10</td>\n",
       "      <td>101</td>\n",
       "      <td>76</td>\n",
       "      <td>48</td>\n",
       "      <td>180</td>\n",
       "      <td>32.9</td>\n",
       "      <td>0.171</td>\n",
       "      <td>63</td>\n",
       "      <td>0</td>\n",
       "    </tr>\n",
       "    <tr>\n",
       "      <th>764</th>\n",
       "      <td>2</td>\n",
       "      <td>122</td>\n",
       "      <td>70</td>\n",
       "      <td>27</td>\n",
       "      <td>0</td>\n",
       "      <td>36.8</td>\n",
       "      <td>0.340</td>\n",
       "      <td>27</td>\n",
       "      <td>0</td>\n",
       "    </tr>\n",
       "    <tr>\n",
       "      <th>765</th>\n",
       "      <td>5</td>\n",
       "      <td>121</td>\n",
       "      <td>72</td>\n",
       "      <td>23</td>\n",
       "      <td>112</td>\n",
       "      <td>26.2</td>\n",
       "      <td>0.245</td>\n",
       "      <td>30</td>\n",
       "      <td>0</td>\n",
       "    </tr>\n",
       "    <tr>\n",
       "      <th>766</th>\n",
       "      <td>1</td>\n",
       "      <td>126</td>\n",
       "      <td>60</td>\n",
       "      <td>0</td>\n",
       "      <td>0</td>\n",
       "      <td>30.1</td>\n",
       "      <td>0.349</td>\n",
       "      <td>47</td>\n",
       "      <td>1</td>\n",
       "    </tr>\n",
       "    <tr>\n",
       "      <th>767</th>\n",
       "      <td>1</td>\n",
       "      <td>93</td>\n",
       "      <td>70</td>\n",
       "      <td>31</td>\n",
       "      <td>0</td>\n",
       "      <td>30.4</td>\n",
       "      <td>0.315</td>\n",
       "      <td>23</td>\n",
       "      <td>0</td>\n",
       "    </tr>\n",
       "  </tbody>\n",
       "</table>\n",
       "<p>768 rows × 9 columns</p>\n",
       "</div>"
      ],
      "text/plain": [
       "     preg  plas  pres  skin  test  mass   pedi  age  class\n",
       "0       6   148    72    35     0  33.6  0.627   50      1\n",
       "1       1    85    66    29     0  26.6  0.351   31      0\n",
       "2       8   183    64     0     0  23.3  0.672   32      1\n",
       "3       1    89    66    23    94  28.1  0.167   21      0\n",
       "4       0   137    40    35   168  43.1  2.288   33      1\n",
       "..    ...   ...   ...   ...   ...   ...    ...  ...    ...\n",
       "763    10   101    76    48   180  32.9  0.171   63      0\n",
       "764     2   122    70    27     0  36.8  0.340   27      0\n",
       "765     5   121    72    23   112  26.2  0.245   30      0\n",
       "766     1   126    60     0     0  30.1  0.349   47      1\n",
       "767     1    93    70    31     0  30.4  0.315   23      0\n",
       "\n",
       "[768 rows x 9 columns]"
      ]
     },
     "execution_count": 1126,
     "metadata": {},
     "output_type": "execute_result"
    }
   ],
   "source": [
    "col_names=['preg','plas','pres','skin','test','mass','pedi','age','class']\n",
    "pima=pd.read_csv(\"pima-indians-diabetes.csv\",header=None,names=col_names)\n",
    "pima"
   ]
  },
  {
   "cell_type": "code",
   "execution_count": 1127,
   "id": "5965e340",
   "metadata": {},
   "outputs": [
    {
     "data": {
      "text/html": [
       "<div>\n",
       "<style scoped>\n",
       "    .dataframe tbody tr th:only-of-type {\n",
       "        vertical-align: middle;\n",
       "    }\n",
       "\n",
       "    .dataframe tbody tr th {\n",
       "        vertical-align: top;\n",
       "    }\n",
       "\n",
       "    .dataframe thead th {\n",
       "        text-align: right;\n",
       "    }\n",
       "</style>\n",
       "<table border=\"1\" class=\"dataframe\">\n",
       "  <thead>\n",
       "    <tr style=\"text-align: right;\">\n",
       "      <th></th>\n",
       "      <th>preg</th>\n",
       "      <th>plas</th>\n",
       "      <th>pres</th>\n",
       "      <th>skin</th>\n",
       "      <th>test</th>\n",
       "      <th>mass</th>\n",
       "      <th>pedi</th>\n",
       "      <th>age</th>\n",
       "      <th>class</th>\n",
       "    </tr>\n",
       "  </thead>\n",
       "  <tbody>\n",
       "    <tr>\n",
       "      <th>0</th>\n",
       "      <td>6</td>\n",
       "      <td>148</td>\n",
       "      <td>72</td>\n",
       "      <td>35</td>\n",
       "      <td>0</td>\n",
       "      <td>33.6</td>\n",
       "      <td>0.627</td>\n",
       "      <td>50</td>\n",
       "      <td>1</td>\n",
       "    </tr>\n",
       "    <tr>\n",
       "      <th>1</th>\n",
       "      <td>1</td>\n",
       "      <td>85</td>\n",
       "      <td>66</td>\n",
       "      <td>29</td>\n",
       "      <td>0</td>\n",
       "      <td>26.6</td>\n",
       "      <td>0.351</td>\n",
       "      <td>31</td>\n",
       "      <td>0</td>\n",
       "    </tr>\n",
       "    <tr>\n",
       "      <th>2</th>\n",
       "      <td>8</td>\n",
       "      <td>183</td>\n",
       "      <td>64</td>\n",
       "      <td>0</td>\n",
       "      <td>0</td>\n",
       "      <td>23.3</td>\n",
       "      <td>0.672</td>\n",
       "      <td>32</td>\n",
       "      <td>1</td>\n",
       "    </tr>\n",
       "    <tr>\n",
       "      <th>3</th>\n",
       "      <td>1</td>\n",
       "      <td>89</td>\n",
       "      <td>66</td>\n",
       "      <td>23</td>\n",
       "      <td>94</td>\n",
       "      <td>28.1</td>\n",
       "      <td>0.167</td>\n",
       "      <td>21</td>\n",
       "      <td>0</td>\n",
       "    </tr>\n",
       "    <tr>\n",
       "      <th>4</th>\n",
       "      <td>0</td>\n",
       "      <td>137</td>\n",
       "      <td>40</td>\n",
       "      <td>35</td>\n",
       "      <td>168</td>\n",
       "      <td>43.1</td>\n",
       "      <td>2.288</td>\n",
       "      <td>33</td>\n",
       "      <td>1</td>\n",
       "    </tr>\n",
       "  </tbody>\n",
       "</table>\n",
       "</div>"
      ],
      "text/plain": [
       "   preg  plas  pres  skin  test  mass   pedi  age  class\n",
       "0     6   148    72    35     0  33.6  0.627   50      1\n",
       "1     1    85    66    29     0  26.6  0.351   31      0\n",
       "2     8   183    64     0     0  23.3  0.672   32      1\n",
       "3     1    89    66    23    94  28.1  0.167   21      0\n",
       "4     0   137    40    35   168  43.1  2.288   33      1"
      ]
     },
     "execution_count": 1127,
     "metadata": {},
     "output_type": "execute_result"
    }
   ],
   "source": [
    "pima.head()"
   ]
  },
  {
   "cell_type": "code",
   "execution_count": 1128,
   "id": "878016f1",
   "metadata": {},
   "outputs": [
    {
     "data": {
      "text/plain": [
       "class\n",
       "0    500\n",
       "1    268\n",
       "dtype: int64"
      ]
     },
     "execution_count": 1128,
     "metadata": {},
     "output_type": "execute_result"
    }
   ],
   "source": [
    "pima.groupby(\"class\").size()"
   ]
  },
  {
   "cell_type": "code",
   "execution_count": 1129,
   "id": "61642788",
   "metadata": {},
   "outputs": [
    {
     "name": "stdout",
     "output_type": "stream",
     "text": [
      "     preg  plas  pres  skin  test  mass   pedi  age\n",
      "0       6   148    72    35     0  33.6  0.627   50\n",
      "1       1    85    66    29     0  26.6  0.351   31\n",
      "2       8   183    64     0     0  23.3  0.672   32\n",
      "3       1    89    66    23    94  28.1  0.167   21\n",
      "4       0   137    40    35   168  43.1  2.288   33\n",
      "..    ...   ...   ...   ...   ...   ...    ...  ...\n",
      "763    10   101    76    48   180  32.9  0.171   63\n",
      "764     2   122    70    27     0  36.8  0.340   27\n",
      "765     5   121    72    23   112  26.2  0.245   30\n",
      "766     1   126    60     0     0  30.1  0.349   47\n",
      "767     1    93    70    31     0  30.4  0.315   23\n",
      "\n",
      "[768 rows x 8 columns]\n",
      "\n",
      "\n",
      "y\n",
      " 0      1\n",
      "1      0\n",
      "2      1\n",
      "3      0\n",
      "4      1\n",
      "      ..\n",
      "763    0\n",
      "764    0\n",
      "765    0\n",
      "766    1\n",
      "767    0\n",
      "Name: class, Length: 768, dtype: int64\n"
     ]
    }
   ],
   "source": [
    "\n",
    "X=pima.drop('class',axis=1)\n",
    "print(X)\n",
    "print(\"\\n\")\n",
    "y=pima['class']\n",
    "print(\"y\\n\",y)"
   ]
  },
  {
   "cell_type": "code",
   "execution_count": 1130,
   "id": "851ade37",
   "metadata": {},
   "outputs": [
    {
     "name": "stdout",
     "output_type": "stream",
     "text": [
      "Accuracy: 0.7564935064935064\n"
     ]
    }
   ],
   "source": [
    "X_train,X_test,y_train,y_test=train_test_split(X,y,test_size=0.4,random_state=2)\n",
    "\n",
    "#With in-built \n",
    "from sklearn.discriminant_analysis import LinearDiscriminantAnalysis as LDA\n",
    "clf=LDA(n_components =1)\n",
    "clf=clf.fit(X_train,y_train)\n",
    "\n",
    "y_pred=clf.predict(X_test)\n",
    "lda=metrics.accuracy_score(y_test,y_pred)\n",
    "print(\"Accuracy:\",lda)"
   ]
  },
  {
   "cell_type": "code",
   "execution_count": 1131,
   "id": "31ce1cb3",
   "metadata": {},
   "outputs": [],
   "source": [
    "from sklearn.metrics import classification_report\n",
    "from sklearn.metrics import confusion_matrix\n",
    "from sklearn.metrics import accuracy_score "
   ]
  },
  {
   "cell_type": "code",
   "execution_count": 1132,
   "id": "3cfd9a8d",
   "metadata": {},
   "outputs": [
    {
     "name": "stdout",
     "output_type": "stream",
     "text": [
      "Accuracy Score is:\n",
      "0.7564935064935064\n",
      "\n"
     ]
    }
   ],
   "source": [
    "print(\"Accuracy Score is:\")\n",
    "print(accuracy_score(y_test,y_pred ))\n",
    "print()"
   ]
  },
  {
   "cell_type": "code",
   "execution_count": 1133,
   "id": "b186b220",
   "metadata": {},
   "outputs": [
    {
     "name": "stdout",
     "output_type": "stream",
     "text": [
      "Classification Report:\n",
      "              precision    recall  f1-score   support\n",
      "\n",
      "           0       0.79      0.87      0.83       205\n",
      "           1       0.68      0.52      0.59       103\n",
      "\n",
      "    accuracy                           0.76       308\n",
      "   macro avg       0.73      0.70      0.71       308\n",
      "weighted avg       0.75      0.76      0.75       308\n",
      "\n"
     ]
    }
   ],
   "source": [
    "print(\"Classification Report:\")\n",
    "print(classification_report(y_test,y_pred))"
   ]
  },
  {
   "cell_type": "code",
   "execution_count": 1134,
   "id": "51aa2fdc",
   "metadata": {},
   "outputs": [],
   "source": [
    "\n",
    "X_train, X_test, y_train, y_test = train_test_split(X, y, test_size=0.4, random_state=2)\n"
   ]
  },
  {
   "cell_type": "code",
   "execution_count": 1135,
   "id": "0c24b8bf",
   "metadata": {},
   "outputs": [],
   "source": [
    "#Without in_built\n",
    "#FDA"
   ]
  },
  {
   "cell_type": "code",
   "execution_count": 1136,
   "id": "7af3029c",
   "metadata": {},
   "outputs": [
    {
     "name": "stdout",
     "output_type": "stream",
     "text": [
      "     preg  plas  pres  skin  test  mass   pedi  age  class\n",
      "0       6   148    72    35     0  33.6  0.627   50      1\n",
      "2       8   183    64     0     0  23.3  0.672   32      1\n",
      "4       0   137    40    35   168  43.1  2.288   33      1\n",
      "6       3    78    50    32    88  31.0  0.248   26      1\n",
      "8       2   197    70    45   543  30.5  0.158   53      1\n",
      "..    ...   ...   ...   ...   ...   ...    ...  ...    ...\n",
      "755     1   128    88    39   110  36.5  1.057   37      1\n",
      "757     0   123    72     0     0  36.3  0.258   52      1\n",
      "759     6   190    92     0     0  35.5  0.278   66      1\n",
      "761     9   170    74    31     0  44.0  0.403   43      1\n",
      "766     1   126    60     0     0  30.1  0.349   47      1\n",
      "\n",
      "[268 rows x 9 columns]\n",
      "\n",
      "\n",
      "     preg  plas  pres  skin  test  mass   pedi  age  class\n",
      "1       1    85    66    29     0  26.6  0.351   31      0\n",
      "3       1    89    66    23    94  28.1  0.167   21      0\n",
      "5       5   116    74     0     0  25.6  0.201   30      0\n",
      "7      10   115     0     0     0  35.3  0.134   29      0\n",
      "10      4   110    92     0     0  37.6  0.191   30      0\n",
      "..    ...   ...   ...   ...   ...   ...    ...  ...    ...\n",
      "762     9    89    62     0     0  22.5  0.142   33      0\n",
      "763    10   101    76    48   180  32.9  0.171   63      0\n",
      "764     2   122    70    27     0  36.8  0.340   27      0\n",
      "765     5   121    72    23   112  26.2  0.245   30      0\n",
      "767     1    93    70    31     0  30.4  0.315   23      0\n",
      "\n",
      "[500 rows x 9 columns]\n"
     ]
    }
   ],
   "source": [
    "df=pima.groupby('class')\n",
    "class1=df.get_group(1)\n",
    "print(class1)\n",
    "print(\"\\n\")\n",
    "class0=df.get_group(0)\n",
    "print(class0)\n",
    "\n",
    "p=class1.drop('class',axis=1)\n",
    "n=class0.drop('class',axis=1)\n"
   ]
  },
  {
   "cell_type": "code",
   "execution_count": 1137,
   "id": "1aee4b14",
   "metadata": {},
   "outputs": [
    {
     "name": "stdout",
     "output_type": "stream",
     "text": [
      "class1= [  4.86567164 141.25746269  70.82462687  22.1641791  100.3358209\n",
      "  35.14253731   0.5505      37.06716418]\n",
      "[  3.298    109.98      68.184     19.664     68.792     30.3042\n",
      "   0.429734  31.19    ]\n"
     ]
    }
   ],
   "source": [
    "P=p.to_numpy()\n",
    "N=n.to_numpy()\n",
    "PMean = np.mean(P, 0)\n",
    "NMean = np.mean(N, 0)\n",
    "\n",
    "print(\"class1=\",PMean)\n",
    "print(NMean)"
   ]
  },
  {
   "cell_type": "code",
   "execution_count": 1138,
   "id": "a367de60",
   "metadata": {},
   "outputs": [
    {
     "name": "stdout",
     "output_type": "stream",
     "text": [
      "[[ 8.27976218e+03  2.14224866e+03  6.34527057e+03 -4.05102555e+03\n",
      "  -3.05299184e+04 -9.63094457e+02 -6.17383660e+01  1.49371079e+04]\n",
      " [ 2.14224866e+03  6.13375035e+05  5.80179407e+04  8.78231164e+03\n",
      "   7.64314748e+05  1.63385069e+04  4.56836840e+02  4.39232657e+04]\n",
      " [ 6.34527057e+03  5.80179407e+04  2.86137829e+05  4.79586284e+04\n",
      "   1.37622920e+05  3.07554129e+04  1.47335972e+02  3.91116767e+04]\n",
      " [-4.05102555e+03  8.78231164e+03  4.79586284e+04  1.94090328e+05\n",
      "   6.02125280e+05  3.57591340e+04  6.92946312e+02 -1.89630352e+04]\n",
      " [-3.05299184e+04  7.64314748e+05  1.37622920e+05  6.02125280e+05\n",
      "   1.00130561e+07  1.11258608e+05  4.75547934e+03 -7.61752848e+04]\n",
      " [-9.63094457e+02  1.63385069e+04  3.07554129e+04  3.57591340e+04\n",
      "   1.11258608e+05  4.35922363e+04  1.79850059e+02 -2.38406467e+03]\n",
      " [-6.17383660e+01  4.56836840e+02  1.47335972e+02  6.92946312e+02\n",
      "   4.75547934e+03  1.79850059e+02  8.16555366e+01 -2.35367300e+01]\n",
      " [ 1.49371079e+04  4.39232657e+04  3.91116767e+04 -1.89630352e+04\n",
      "  -7.61752848e+04 -2.38406467e+03 -2.35367300e+01  1.00051741e+05]]\n"
     ]
    }
   ],
   "source": [
    "#print(len(P))\n",
    "S1 = (len(P) - 1) * np.cov(P.T)\n",
    "S2 = (len(N) - 1) * np.cov(N.T)\n",
    "SW = S1 + S2\n",
    "print(SW) #Within-class scatter matriux"
   ]
  },
  {
   "cell_type": "code",
   "execution_count": 1139,
   "id": "96fa6528",
   "metadata": {},
   "outputs": [
    {
     "name": "stdout",
     "output_type": "stream",
     "text": [
      "2046.9388601465055\n"
     ]
    }
   ],
   "source": [
    "SB = (PMean - NMean).dot((PMean - NMean).T)\n",
    "print(SB)"
   ]
  },
  {
   "cell_type": "code",
   "execution_count": 1140,
   "id": "085881ce",
   "metadata": {},
   "outputs": [
    {
     "name": "stdout",
     "output_type": "stream",
     "text": [
      "[[ 1.67794347e-04  9.05211346e-07 -8.18218374e-07 -7.32400704e-08\n",
      "   2.01474187e-07  1.71029591e-06  1.01215229e-04 -2.49241238e-05]\n",
      " [ 9.05211346e-07  1.94501584e-06 -2.29584411e-07  5.61276312e-07\n",
      "  -1.75254941e-07 -5.98039117e-07 -3.29376899e-06 -9.41344305e-07]\n",
      " [-8.18218374e-07 -2.29584411e-07  4.15763920e-06 -8.36343321e-07\n",
      "   2.01467752e-08 -2.33376446e-06  3.76697211e-06 -1.60023634e-06]\n",
      " [-7.32400704e-08  5.61276312e-07 -8.36343321e-07  7.72345036e-06\n",
      "  -4.20143657e-07 -4.69173433e-06 -3.21054073e-05  1.11608393e-06]\n",
      " [ 2.01474187e-07 -1.75254941e-07  2.01467752e-08 -4.20143657e-07\n",
      "   1.40405783e-07  6.08511963e-08 -3.62984889e-06  6.68478468e-08]\n",
      " [ 1.71029591e-06 -5.98039117e-07 -2.33376446e-06 -4.69173433e-06\n",
      "   6.08511963e-08  2.86563467e-05 -1.77781138e-05  7.55252989e-07]\n",
      " [ 1.01215229e-04 -3.29376899e-06  3.76697211e-06 -3.21054073e-05\n",
      "  -3.62984889e-06 -1.77781138e-05  1.28515669e-02 -2.13863680e-05]\n",
      " [-2.49241238e-05 -9.41344305e-07 -1.60023634e-06  1.11608393e-06\n",
      "   6.68478468e-08  7.55252989e-07 -2.13863680e-05  1.50300520e-05]]\n"
     ]
    }
   ],
   "source": [
    "from numpy.linalg import inv\n",
    "SW_inv=inv(SW)\n",
    "print(SW_inv)"
   ]
  },
  {
   "cell_type": "code",
   "execution_count": 1141,
   "id": "6b65bdb7",
   "metadata": {},
   "outputs": [
    {
     "name": "stdout",
     "output_type": "stream",
     "text": [
      "[ 1.69385876e-04  4.86993432e-05 -1.91817129e-05  1.27105835e-06\n",
      " -1.48505184e-06  1.08943564e-04  1.21115472e-03  2.15632214e-05]\n"
     ]
    }
   ],
   "source": [
    "W = np.matmul(SW_inv, (PMean - NMean))\n",
    "print(W)"
   ]
  },
  {
   "cell_type": "code",
   "execution_count": 1142,
   "id": "62209879",
   "metadata": {},
   "outputs": [],
   "source": [
    "P_proj=np.matmul(W,(P.T))\n",
    "N_proj=np.matmul(W,(N.T))\n",
    "\n",
    "#print(P_proj)\n",
    "#print(N_proj)"
   ]
  },
  {
   "cell_type": "code",
   "execution_count": 1143,
   "id": "f329335f",
   "metadata": {},
   "outputs": [
    {
     "name": "stdout",
     "output_type": "stream",
     "text": [
      "PMean_proj= 0.01151853351726184\n",
      "NMean_proj= 0.009024015662736347\n",
      "PNcutoff= 0.010271274589999093\n"
     ]
    }
   ],
   "source": [
    "PMean_proj = np.matmul(W.T,PMean)\n",
    "NMean_proj = np.matmul(W.T,NMean)\n",
    "PNcutoff = 0.5*(PMean_proj + NMean_proj)\n",
    "print(\"PMean_proj=\",PMean_proj)\n",
    "print(\"NMean_proj=\",NMean_proj)\n",
    "print(\"PNcutoff=\",PNcutoff)"
   ]
  },
  {
   "cell_type": "code",
   "execution_count": 1144,
   "id": "cd434000",
   "metadata": {},
   "outputs": [
    {
     "name": "stdout",
     "output_type": "stream",
     "text": [
      "test value= 0.006830841845618591\n"
     ]
    }
   ],
   "source": [
    "test = np.matmul(W.T,[3,75,64,20.5,0,27,0.145,35])\n",
    "print(\"test value=\",test)\n"
   ]
  },
  {
   "cell_type": "markdown",
   "id": "6cffa558",
   "metadata": {},
   "source": [
    "Compare test value with cutoff value.\n",
    "Greater than cutoff value we got to one class,if less than cutoff we got to another classmean projection.\n",
    "Here,in this case test value belongs to NMean ,since close to NMean value i.e...class0"
   ]
  },
  {
   "cell_type": "markdown",
   "id": "0d43c000",
   "metadata": {},
   "source": [
    "# DECISION TREE CLASSIFICATION"
   ]
  },
  {
   "cell_type": "markdown",
   "id": "1805914a",
   "metadata": {},
   "source": [
    "\n",
    "#2.Perform Decision Tree classification on pima-indians-diabetes.csv"
   ]
  },
  {
   "cell_type": "code",
   "execution_count": 1145,
   "id": "8302070a",
   "metadata": {},
   "outputs": [],
   "source": [
    "\n",
    "from sklearn.tree import DecisionTreeClassifier"
   ]
  },
  {
   "cell_type": "markdown",
   "id": "96372df3",
   "metadata": {},
   "source": [
    "split dataset in features and target variables"
   ]
  },
  {
   "cell_type": "markdown",
   "id": "31188a13",
   "metadata": {},
   "source": [
    "Split dataset into training set and test set"
   ]
  },
  {
   "cell_type": "code",
   "execution_count": 1146,
   "id": "4434c245",
   "metadata": {},
   "outputs": [
    {
     "name": "stdout",
     "output_type": "stream",
     "text": [
      "Accuracy: 0.7305194805194806\n"
     ]
    }
   ],
   "source": [
    "X_train,X_test,y_train,y_test=train_test_split(X,y,test_size=0.4,random_state=2)\n",
    "\n",
    "clf=DecisionTreeClassifier(criterion=\"entropy\",max_depth=1)\n",
    "clf=clf.fit(X_train,y_train)\n",
    "\n",
    "y_pred=clf.predict(X_test)\n",
    "\n",
    "print(\"Accuracy:\",metrics.accuracy_score(y_test,y_pred))"
   ]
  },
  {
   "cell_type": "markdown",
   "id": "2d1d3770",
   "metadata": {},
   "source": [
    "# Fisher Discriminant Analysis and Decision Tree Classification"
   ]
  },
  {
   "cell_type": "markdown",
   "id": "82307316",
   "metadata": {},
   "source": [
    "#3.Perform Fisher Discriminant Analysis on pima-indians-diabetes.csv and then perform decision tree classification. compare the results."
   ]
  },
  {
   "cell_type": "code",
   "execution_count": 1147,
   "id": "45c9fff8",
   "metadata": {},
   "outputs": [],
   "source": [
    "from sklearn.preprocessing import StandardScaler\n",
    "scalar = StandardScaler()\n",
    "X_train = scalar.fit_transform(X_train)\n",
    "X_test = scalar.transform(X_test)"
   ]
  },
  {
   "cell_type": "code",
   "execution_count": 1148,
   "id": "20bcf9a6",
   "metadata": {},
   "outputs": [],
   "source": [
    "lda = LDA(n_components=1)\n",
    "X_train = lda.fit_transform(X_train, y_train.values.ravel())\n",
    "X_test = lda.transform(X_test)\n"
   ]
  },
  {
   "cell_type": "code",
   "execution_count": 1149,
   "id": "5ebacb63",
   "metadata": {},
   "outputs": [
    {
     "name": "stdout",
     "output_type": "stream",
     "text": [
      "Accuracy: 0.7435064935064936\n"
     ]
    }
   ],
   "source": [
    "# X_train,X_test,y_train,y_test=train_test_split(X,y,test_size=0.4,random_state=2)\n",
    "clf=DecisionTreeClassifier(criterion=\"entropy\",max_depth=1)\n",
    "clf=clf.fit(X_train,y_train)\n",
    "\n",
    "y_pred=clf.predict(X_test)\n",
    "acc=metrics.accuracy_score(y_test,y_pred)\n",
    "print(\"Accuracy:\",acc)"
   ]
  },
  {
   "cell_type": "markdown",
   "id": "b5558124",
   "metadata": {},
   "source": [
    "By comparing Accuracies of FDA and DecisionTree classifier ,FDA has more accuracy .\n",
    "Decision tree accuracy increases after dimensionality reduction."
   ]
  }
 ],
 "metadata": {
  "kernelspec": {
   "display_name": "Python 3 (ipykernel)",
   "language": "python",
   "name": "python3"
  },
  "language_info": {
   "codemirror_mode": {
    "name": "ipython",
    "version": 3
   },
   "file_extension": ".py",
   "mimetype": "text/x-python",
   "name": "python",
   "nbconvert_exporter": "python",
   "pygments_lexer": "ipython3",
   "version": "3.11.0"
  }
 },
 "nbformat": 4,
 "nbformat_minor": 5
}
