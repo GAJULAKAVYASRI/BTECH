{
 "cells": [
  {
   "cell_type": "markdown",
   "id": "afced9fc",
   "metadata": {},
   "source": [
    "# Lab8\n",
    "\n",
    "NAME= GAJULA.KAVYASRI\n",
    "\n",
    "ROLL NO = CS20B1126\n",
    "\n",
    "Implemtation of CNN using PyTorch Tutorial for Image classification.\n",
    "1. Load and normalize any dataset available in PyTorch\n",
    "2. Design LeNet model using PyTorch.\n",
    "3. Train and Test the model on the selected dataset\n",
    "4. Experiment with different number of filters, kernel sizes, number of layers.\n",
    "5. Compare the results."
   ]
  },
  {
   "cell_type": "code",
   "execution_count": 10,
   "id": "e0fab0cd",
   "metadata": {},
   "outputs": [
    {
     "ename": "ModuleNotFoundError",
     "evalue": "No module named 'torch'",
     "output_type": "error",
     "traceback": [
      "\u001b[1;31m---------------------------------------------------------------------------\u001b[0m",
      "\u001b[1;31mModuleNotFoundError\u001b[0m                       Traceback (most recent call last)",
      "Cell \u001b[1;32mIn [10], line 1\u001b[0m\n\u001b[1;32m----> 1\u001b[0m \u001b[38;5;28;01mimport\u001b[39;00m \u001b[38;5;21;01mtorch\u001b[39;00m\n",
      "\u001b[1;31mModuleNotFoundError\u001b[0m: No module named 'torch'"
     ]
    }
   ],
   "source": [
    "import torch\n"
   ]
  },
  {
   "cell_type": "code",
   "execution_count": null,
   "id": "00c316a5",
   "metadata": {},
   "outputs": [],
   "source": [
    "# import torch\n",
    "# import torchvision\n",
    "# import torchvision.transforms as transforms\n",
    "# import torch.optim as optim\n",
    "# import matplotlib.pyplot as plt\n",
    "# import numpy as np\n",
    "\n",
    "# from torch.utils.data import Dataset\n",
    "# from torchvision import datasets\n",
    "\n",
    "# from time import time"
   ]
  },
  {
   "cell_type": "code",
   "execution_count": null,
   "id": "06e8f7c8",
   "metadata": {},
   "outputs": [],
   "source": [
    "# root_dir = \"\"\n",
    "\n",
    "\n",
    "# training_data = datasets.MNIST(\n",
    "#     root = root_dir,\n",
    "#     train = True,\n",
    "#     download = True,\n",
    "#     transform = transforms.ToTensor()\n",
    "# )\n",
    "\n",
    "# test_data = datasets.MNIST(\n",
    "#     root = root_dir,\n",
    "#     train = False,\n",
    "#     download = True,\n",
    "#     transform = transforms.ToTensor()\n",
    "# )"
   ]
  },
  {
   "cell_type": "code",
   "execution_count": null,
   "id": "8804f4a5",
   "metadata": {},
   "outputs": [],
   "source": []
  },
  {
   "cell_type": "code",
   "execution_count": null,
   "id": "dbc0a22e",
   "metadata": {},
   "outputs": [],
   "source": []
  }
 ],
 "metadata": {
  "kernelspec": {
   "display_name": "pytorch_env",
   "language": "python",
   "name": "pytorch_env"
  },
  "language_info": {
   "codemirror_mode": {
    "name": "ipython",
    "version": 3
   },
   "file_extension": ".py",
   "mimetype": "text/x-python",
   "name": "python",
   "nbconvert_exporter": "python",
   "pygments_lexer": "ipython3",
   "version": "3.9.13"
  }
 },
 "nbformat": 4,
 "nbformat_minor": 5
}
