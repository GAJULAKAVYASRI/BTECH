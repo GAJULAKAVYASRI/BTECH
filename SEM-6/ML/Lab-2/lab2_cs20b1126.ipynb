{
 "cells": [
  {
   "cell_type": "code",
   "execution_count": 205,
   "id": "ff71b0cc",
   "metadata": {},
   "outputs": [],
   "source": [
    "'''\n",
    "Name= G.KAVYASRI\n",
    "roll = CS20B1126\n",
    "\n",
    "A) Perform Principle Component Analysis (PCA) for the above data and generate Eigen vectors.\n",
    "B) Generate Two dimensional and Three dimensional representation of the data.\n",
    "C) Plot the scatter plots to compares the features after reduction: feature1 vs feature2, feature1 vs\n",
    "feature3, feature2 v feature3\n",
    "D) Also perform inverse transformation to get original data and find Mean Square Error as\n",
    "discussed in class.\n",
    "\n",
    "'''\n",
    "\n",
    "import pandas as pd\n",
    "import numpy as np\n",
    "from numpy import linalg as LA\n",
    "import matplotlib.pyplot as plt"
   ]
  },
  {
   "cell_type": "code",
   "execution_count": 206,
   "id": "7e1e6550",
   "metadata": {},
   "outputs": [
    {
     "name": "stdout",
     "output_type": "stream",
     "text": [
      "    PatternId     x1   x2     x3   x4 \n",
      "0           1  77.60  136   9.65  12.6\n",
      "1           2  83.45  177   9.76  13.1\n",
      "2           3  76.20  164  10.52  13.9\n",
      "3           4  80.30  185   9.76  12.5\n",
      "4           5  82.30  187   9.77  13.4\n",
      "5           6  86.00  171   9.25  13.0\n",
      "6           7  90.50  211   9.75  12.9\n",
      "7           8  81.50  158  10.38  13.6\n",
      "8           9  79.75  176   9.31  12.0\n",
      "9          10  86.85  175  10.23  14.2\n",
      "10         11  72.90  139  10.29  12.9\n",
      "11         12  73.50  124   9.68  12.0\n",
      "12         13  86.85  149  10.33  13.5\n",
      "13         14  89.15  224   9.70  13.0\n",
      "14         15  78.05  149   9.63  12.6\n",
      "15         16  65.55  166   9.29  11.3\n",
      "16         17  67.10  132   9.52  11.7\n",
      "17         18  66.25  173   9.88  12.1\n",
      "18         19  80.45  155  11.19  13.8\n",
      "19         20  78.30  202  10.78  13.3\n",
      "20         21  77.80  155  10.86  14.0\n",
      "21         22  79.20  161  10.68  14.3\n",
      "22         23  82.65  158  10.64  12.2\n",
      "23         24  79.85  156  10.83  13.7\n",
      "24         25  67.30  157   9.78  11.8\n",
      "25         26  70.65  173   9.97  12.2\n",
      "26         27  67.15  159   9.99  12.3\n",
      "27         28  80.85  160  10.47  12.7\n",
      "28         29  81.80  162  10.87  13.9\n",
      "29         30  81.15  178  11.07  13.8\n"
     ]
    }
   ],
   "source": [
    "#given data\n",
    "df=pd.read_csv(\"pca.csv\")\n",
    "print(df)"
   ]
  },
  {
   "cell_type": "code",
   "execution_count": 207,
   "id": "a5bd27de",
   "metadata": {},
   "outputs": [
    {
     "name": "stdout",
     "output_type": "stream",
     "text": [
      "       x1   x2     x3   x4 \n",
      "0   77.60  136   9.65  12.6\n",
      "1   83.45  177   9.76  13.1\n",
      "2   76.20  164  10.52  13.9\n",
      "3   80.30  185   9.76  12.5\n",
      "4   82.30  187   9.77  13.4\n",
      "5   86.00  171   9.25  13.0\n",
      "6   90.50  211   9.75  12.9\n",
      "7   81.50  158  10.38  13.6\n",
      "8   79.75  176   9.31  12.0\n",
      "9   86.85  175  10.23  14.2\n",
      "10  72.90  139  10.29  12.9\n",
      "11  73.50  124   9.68  12.0\n",
      "12  86.85  149  10.33  13.5\n",
      "13  89.15  224   9.70  13.0\n",
      "14  78.05  149   9.63  12.6\n",
      "15  65.55  166   9.29  11.3\n",
      "16  67.10  132   9.52  11.7\n",
      "17  66.25  173   9.88  12.1\n",
      "18  80.45  155  11.19  13.8\n",
      "19  78.30  202  10.78  13.3\n",
      "20  77.80  155  10.86  14.0\n",
      "21  79.20  161  10.68  14.3\n",
      "22  82.65  158  10.64  12.2\n",
      "23  79.85  156  10.83  13.7\n",
      "24  67.30  157   9.78  11.8\n",
      "25  70.65  173   9.97  12.2\n",
      "26  67.15  159   9.99  12.3\n",
      "27  80.85  160  10.47  12.7\n",
      "28  81.80  162  10.87  13.9\n",
      "29  81.15  178  11.07  13.8\n"
     ]
    }
   ],
   "source": [
    "#A) Perform Principle Component Analysis (PCA) for the above data and generate Eigen vectors.\n",
    "# drop column \n",
    "df=df.drop('PatternId',axis=1)\n",
    "\n",
    "print(df)"
   ]
  },
  {
   "cell_type": "code",
   "execution_count": 208,
   "id": "2ab09601",
   "metadata": {},
   "outputs": [
    {
     "name": "stdout",
     "output_type": "stream",
     "text": [
      "[[ 77.6  136.     9.65  12.6 ]\n",
      " [ 83.45 177.     9.76  13.1 ]\n",
      " [ 76.2  164.    10.52  13.9 ]\n",
      " [ 80.3  185.     9.76  12.5 ]\n",
      " [ 82.3  187.     9.77  13.4 ]\n",
      " [ 86.   171.     9.25  13.  ]\n",
      " [ 90.5  211.     9.75  12.9 ]\n",
      " [ 81.5  158.    10.38  13.6 ]\n",
      " [ 79.75 176.     9.31  12.  ]\n",
      " [ 86.85 175.    10.23  14.2 ]\n",
      " [ 72.9  139.    10.29  12.9 ]\n",
      " [ 73.5  124.     9.68  12.  ]\n",
      " [ 86.85 149.    10.33  13.5 ]\n",
      " [ 89.15 224.     9.7   13.  ]\n",
      " [ 78.05 149.     9.63  12.6 ]\n",
      " [ 65.55 166.     9.29  11.3 ]\n",
      " [ 67.1  132.     9.52  11.7 ]\n",
      " [ 66.25 173.     9.88  12.1 ]\n",
      " [ 80.45 155.    11.19  13.8 ]\n",
      " [ 78.3  202.    10.78  13.3 ]\n",
      " [ 77.8  155.    10.86  14.  ]\n",
      " [ 79.2  161.    10.68  14.3 ]\n",
      " [ 82.65 158.    10.64  12.2 ]\n",
      " [ 79.85 156.    10.83  13.7 ]\n",
      " [ 67.3  157.     9.78  11.8 ]\n",
      " [ 70.65 173.     9.97  12.2 ]\n",
      " [ 67.15 159.     9.99  12.3 ]\n",
      " [ 80.85 160.    10.47  12.7 ]\n",
      " [ 81.8  162.    10.87  13.9 ]\n",
      " [ 81.15 178.    11.07  13.8 ]]\n"
     ]
    }
   ],
   "source": [
    "\n",
    "#dataframe to numpy\n",
    "X=df.to_numpy()\n",
    "print(X)"
   ]
  },
  {
   "cell_type": "code",
   "execution_count": 209,
   "id": "a3d4ade9",
   "metadata": {},
   "outputs": [
    {
     "name": "stdout",
     "output_type": "stream",
     "text": [
      "[ 78.365      165.73333333  10.12766667  12.94333333]\n"
     ]
    }
   ],
   "source": [
    "#mean for the data\n",
    "Xmean=np.mean(X,axis=0)\n",
    "print(Xmean)"
   ]
  },
  {
   "cell_type": "code",
   "execution_count": 210,
   "id": "9fa25a17",
   "metadata": {},
   "outputs": [
    {
     "name": "stdout",
     "output_type": "stream",
     "text": [
      "[[ 4.75479569e+01  7.05248276e+01  7.58398276e-01  3.36915517e+00]\n",
      " [ 7.05248276e+01  4.77995402e+02 -7.91678161e-01  2.89471264e+00]\n",
      " [ 7.58398276e-01 -7.91678161e-01  3.15128851e-01  3.23552874e-01]\n",
      " [ 3.36915517e+00  2.89471264e+00  3.23552874e-01  6.74954023e-01]]\n"
     ]
    }
   ],
   "source": [
    "#covariance \n",
    "Cov=np.cov(array.T)\n",
    "print(Cov)"
   ]
  },
  {
   "cell_type": "code",
   "execution_count": 211,
   "id": "febdc394",
   "metadata": {},
   "outputs": [
    {
     "name": "stdout",
     "output_type": "stream",
     "text": [
      "[4.89280087e+02 3.65396440e+01 6.22203694e-01 9.15073250e-02]\n"
     ]
    }
   ],
   "source": [
    "eigval,eigvec=LA.eig(Cov)\n",
    "#eigen values\n",
    "print(eigval)"
   ]
  },
  {
   "cell_type": "code",
   "execution_count": 212,
   "id": "cfe88993",
   "metadata": {},
   "outputs": [
    {
     "name": "stdout",
     "output_type": "stream",
     "text": [
      "[[ 1.57703890e-01  9.83940357e-01 -7.79869693e-02 -3.01477895e-02]\n",
      " [ 9.87461161e-01 -1.57669244e-01  7.78021664e-03 -5.77866853e-04]\n",
      " [-1.34959505e-03  2.47595703e-02  6.14484812e-01 -7.88538876e-01]\n",
      " [ 6.93670265e-03  7.99296361e-02  7.85026061e-01  6.14245243e-01]]\n"
     ]
    }
   ],
   "source": [
    "#eigen vectors\n",
    "print(eigvec)\n",
    "fv1=eigvec\n",
    "#print(fv1)"
   ]
  },
  {
   "cell_type": "code",
   "execution_count": 213,
   "id": "91a54851",
   "metadata": {},
   "outputs": [
    {
     "name": "stdout",
     "output_type": "stream",
     "text": [
      "[[ 0.15770389  0.98746116 -0.0013496   0.0069367 ]\n",
      " [ 0.98394036 -0.15766924  0.02475957  0.07992964]]\n"
     ]
    }
   ],
   "source": [
    "#Dimension reduction to 2\n",
    "#highest 2 eigen values\n",
    "fv2=np.array([eigvec[:,0],eigvec[:,1]])\n",
    "print(fv2)"
   ]
  },
  {
   "cell_type": "code",
   "execution_count": 214,
   "id": "05b3bb07",
   "metadata": {},
   "outputs": [
    {
     "name": "stdout",
     "output_type": "stream",
     "text": [
      "[[-7.65000000e-01 -2.97333333e+01 -4.77666667e-01 -3.43333333e-01]\n",
      " [ 5.08500000e+00  1.12666667e+01 -3.67666667e-01  1.56666667e-01]\n",
      " [-2.16500000e+00 -1.73333333e+00  3.92333333e-01  9.56666667e-01]\n",
      " [ 1.93500000e+00  1.92666667e+01 -3.67666667e-01 -4.43333333e-01]\n",
      " [ 3.93500000e+00  2.12666667e+01 -3.57666667e-01  4.56666667e-01]\n",
      " [ 7.63500000e+00  5.26666667e+00 -8.77666667e-01  5.66666667e-02]\n",
      " [ 1.21350000e+01  4.52666667e+01 -3.77666667e-01 -4.33333333e-02]\n",
      " [ 3.13500000e+00 -7.73333333e+00  2.52333333e-01  6.56666667e-01]\n",
      " [ 1.38500000e+00  1.02666667e+01 -8.17666667e-01 -9.43333333e-01]\n",
      " [ 8.48500000e+00  9.26666667e+00  1.02333333e-01  1.25666667e+00]\n",
      " [-5.46500000e+00 -2.67333333e+01  1.62333333e-01 -4.33333333e-02]\n",
      " [-4.86500000e+00 -4.17333333e+01 -4.47666667e-01 -9.43333333e-01]\n",
      " [ 8.48500000e+00 -1.67333333e+01  2.02333333e-01  5.56666667e-01]\n",
      " [ 1.07850000e+01  5.82666667e+01 -4.27666667e-01  5.66666667e-02]\n",
      " [-3.15000000e-01 -1.67333333e+01 -4.97666667e-01 -3.43333333e-01]\n",
      " [-1.28150000e+01  2.66666667e-01 -8.37666667e-01 -1.64333333e+00]\n",
      " [-1.12650000e+01 -3.37333333e+01 -6.07666667e-01 -1.24333333e+00]\n",
      " [-1.21150000e+01  7.26666667e+00 -2.47666667e-01 -8.43333333e-01]\n",
      " [ 2.08500000e+00 -1.07333333e+01  1.06233333e+00  8.56666667e-01]\n",
      " [-6.50000000e-02  3.62666667e+01  6.52333333e-01  3.56666667e-01]\n",
      " [-5.65000000e-01 -1.07333333e+01  7.32333333e-01  1.05666667e+00]\n",
      " [ 8.35000000e-01 -4.73333333e+00  5.52333333e-01  1.35666667e+00]\n",
      " [ 4.28500000e+00 -7.73333333e+00  5.12333333e-01 -7.43333333e-01]\n",
      " [ 1.48500000e+00 -9.73333333e+00  7.02333333e-01  7.56666667e-01]\n",
      " [-1.10650000e+01 -8.73333333e+00 -3.47666667e-01 -1.14333333e+00]\n",
      " [-7.71500000e+00  7.26666667e+00 -1.57666667e-01 -7.43333333e-01]\n",
      " [-1.12150000e+01 -6.73333333e+00 -1.37666667e-01 -6.43333333e-01]\n",
      " [ 2.48500000e+00 -5.73333333e+00  3.42333333e-01 -2.43333333e-01]\n",
      " [ 3.43500000e+00 -3.73333333e+00  7.42333333e-01  9.56666667e-01]\n",
      " [ 2.78500000e+00  1.22666667e+01  9.42333333e-01  8.56666667e-01]]\n",
      "\n",
      "\n",
      "[[-7.65000000e-01  5.08500000e+00 -2.16500000e+00  1.93500000e+00\n",
      "   3.93500000e+00  7.63500000e+00  1.21350000e+01  3.13500000e+00\n",
      "   1.38500000e+00  8.48500000e+00 -5.46500000e+00 -4.86500000e+00\n",
      "   8.48500000e+00  1.07850000e+01 -3.15000000e-01 -1.28150000e+01\n",
      "  -1.12650000e+01 -1.21150000e+01  2.08500000e+00 -6.50000000e-02\n",
      "  -5.65000000e-01  8.35000000e-01  4.28500000e+00  1.48500000e+00\n",
      "  -1.10650000e+01 -7.71500000e+00 -1.12150000e+01  2.48500000e+00\n",
      "   3.43500000e+00  2.78500000e+00]\n",
      " [-2.97333333e+01  1.12666667e+01 -1.73333333e+00  1.92666667e+01\n",
      "   2.12666667e+01  5.26666667e+00  4.52666667e+01 -7.73333333e+00\n",
      "   1.02666667e+01  9.26666667e+00 -2.67333333e+01 -4.17333333e+01\n",
      "  -1.67333333e+01  5.82666667e+01 -1.67333333e+01  2.66666667e-01\n",
      "  -3.37333333e+01  7.26666667e+00 -1.07333333e+01  3.62666667e+01\n",
      "  -1.07333333e+01 -4.73333333e+00 -7.73333333e+00 -9.73333333e+00\n",
      "  -8.73333333e+00  7.26666667e+00 -6.73333333e+00 -5.73333333e+00\n",
      "  -3.73333333e+00  1.22666667e+01]\n",
      " [-4.77666667e-01 -3.67666667e-01  3.92333333e-01 -3.67666667e-01\n",
      "  -3.57666667e-01 -8.77666667e-01 -3.77666667e-01  2.52333333e-01\n",
      "  -8.17666667e-01  1.02333333e-01  1.62333333e-01 -4.47666667e-01\n",
      "   2.02333333e-01 -4.27666667e-01 -4.97666667e-01 -8.37666667e-01\n",
      "  -6.07666667e-01 -2.47666667e-01  1.06233333e+00  6.52333333e-01\n",
      "   7.32333333e-01  5.52333333e-01  5.12333333e-01  7.02333333e-01\n",
      "  -3.47666667e-01 -1.57666667e-01 -1.37666667e-01  3.42333333e-01\n",
      "   7.42333333e-01  9.42333333e-01]\n",
      " [-3.43333333e-01  1.56666667e-01  9.56666667e-01 -4.43333333e-01\n",
      "   4.56666667e-01  5.66666667e-02 -4.33333333e-02  6.56666667e-01\n",
      "  -9.43333333e-01  1.25666667e+00 -4.33333333e-02 -9.43333333e-01\n",
      "   5.56666667e-01  5.66666667e-02 -3.43333333e-01 -1.64333333e+00\n",
      "  -1.24333333e+00 -8.43333333e-01  8.56666667e-01  3.56666667e-01\n",
      "   1.05666667e+00  1.35666667e+00 -7.43333333e-01  7.56666667e-01\n",
      "  -1.14333333e+00 -7.43333333e-01 -6.43333333e-01 -2.43333333e-01\n",
      "   9.56666667e-01  8.56666667e-01]]\n",
      "\n",
      "\n",
      "[[-29.48289226  11.92890298  -2.04692165  19.32766299  21.62422262\n",
      "    6.40627556  46.61302102  -7.13775006  10.35091437  10.49716995\n",
      "  -27.2604998  -41.98321465 -15.18181088  59.23787701 -16.57490343\n",
      "   -1.76792118 -35.09469534   5.25945277 -10.26542846  35.80326771\n",
      "  -10.68151106  -4.53363471  -6.96645286  -9.37279745 -10.37628277\n",
      "    5.95392209  -8.4218311   -5.27169976  -3.13917454  12.55673291]\n",
      " [  3.89604849   3.23034894  -1.77075749  -1.17837492   0.54635157\n",
      "    6.66479197   4.79014063   4.36269663  -0.35162554   6.99064424\n",
      "   -1.1616539    1.70670896  11.0365698    1.41887596   2.28862629\n",
      "  -12.80333211  -5.8798037  -13.13970671   3.83860817  -5.73743432\n",
      "    1.23898149   1.6900047    5.38876404   3.0736683   -9.61031628\n",
      "   -8.80014782 -10.02808149   3.3380886    4.06331284   0.89800266]]\n"
     ]
    }
   ],
   "source": [
    "#Two dimensional Principle Component Analysis (PCA)\n",
    "#Transformation\n",
    "print(np.array(X-Xmean))\n",
    "print(\"\\n\")\n",
    "print(np.array(X-Xmean).T)\n",
    "print(\"\\n\")\n",
    "Y=np.matmul(fv2,(X-Xmean).T)\n",
    "print(Y)"
   ]
  },
  {
   "cell_type": "code",
   "execution_count": 215,
   "id": "7d7b6314",
   "metadata": {},
   "outputs": [
    {
     "name": "stdout",
     "output_type": "stream",
     "text": [
      "[[ 77.54891254 136.0058353   10.26392112  13.05022901]\n",
      " [ 83.4247051  177.00333504  10.19154953  13.2842812 ]\n",
      " [ 76.29987273 163.9912717   10.08658599  12.78759844]\n",
      " [ 80.253597   185.00444334  10.07240609  12.98321651]\n",
      " [ 82.31280139 187.00027046  10.11201015  13.13700382]\n",
      " [ 85.93305237 171.00844892  10.28403817  13.52048616]\n",
      " [ 90.42926744 211.00662332  10.18335979  13.6495482 ]\n",
      " [ 81.53198233 157.99721929  10.24531823  13.24252964]\n",
      " [ 79.6514009  176.00989978  10.10499103  12.98702925]\n",
      " [ 86.89882153 174.99667136  10.28658509  13.57490873]\n",
      " [ 72.92291497 138.99780566  10.13569525  12.66138478]\n",
      " [ 73.42338355 124.00744396  10.22658439  12.78852488]\n",
      " [ 86.83009579 149.00175712  10.42141669  13.72017063]\n",
      " [ 89.10313298 224.00472301  10.08285028  13.46765911]\n",
      " [ 78.00294501 149.00541398  10.20670148  13.01128722]\n",
      " [ 65.48847678 166.00627153   9.81304764  11.90770411]\n",
      " [ 67.04505387 132.00574895  10.02944888  12.2299213 ]\n",
      " [ 66.26574844 172.99856629   9.79523504  11.92956462]\n",
      " [ 80.52306349 154.99139099  10.23656313  13.17894366]\n",
      " [ 78.36602143 201.99228655   9.93729035  12.73309892]\n",
      " [ 77.89956804 154.99040675  10.17275903  12.96827021]\n",
      " [ 79.31289199 160.99008338  10.17562903  13.04696632]\n",
      " [ 82.5685857  158.00458935  10.27049204  13.32573107]\n",
      " [ 79.91117967 155.99343693  10.21641885  13.12399421]\n",
      " [ 67.27264181 157.00240841   9.90372314  12.10320706]\n",
      " [ 70.64513609 173.00011281   9.9017434   12.28124131]\n",
      " [ 67.16981039 158.99822225   9.89074174  12.08337269]\n",
      " [ 80.81811253 160.00142066  10.21743097  13.17357733]\n",
      " [ 81.86799745 161.99286093  10.23250916  13.24633693]\n",
      " [ 81.22882668 177.99103199  10.13295432  13.10221268]]\n"
     ]
    }
   ],
   "source": [
    "#inverse transformation to get original data \n",
    "#recover the original data\n",
    "\n",
    "dr2=np.matmul(fv2.T,Y).T + Xmean\n",
    "\n",
    "print(dr2)"
   ]
  },
  {
   "cell_type": "code",
   "execution_count": 216,
   "id": "f46b7c3c",
   "metadata": {},
   "outputs": [
    {
     "name": "stdout",
     "output_type": "stream",
     "text": [
      "0.6899206517901066\n"
     ]
    }
   ],
   "source": [
    "#Mean Square Error\n",
    "mse=np.sum((X-dr2)**2)/30\n",
    "print(mse)\n"
   ]
  },
  {
   "cell_type": "code",
   "execution_count": 217,
   "id": "b8c304c5",
   "metadata": {},
   "outputs": [
    {
     "name": "stdout",
     "output_type": "stream",
     "text": [
      "[4.89280087e+02 3.65396440e+01 6.22203694e-01 9.15073250e-02]\n"
     ]
    }
   ],
   "source": [
    "print(eigval) #Take top 3 values for 3 dimensional reduction "
   ]
  },
  {
   "cell_type": "code",
   "execution_count": 218,
   "id": "ab15b346",
   "metadata": {},
   "outputs": [
    {
     "name": "stdout",
     "output_type": "stream",
     "text": [
      "[[ 0.15770389  0.98746116 -0.0013496   0.0069367 ]\n",
      " [ 0.98394036 -0.15766924  0.02475957  0.07992964]\n",
      " [-0.07798697  0.00778022  0.61448481  0.78502606]]\n"
     ]
    }
   ],
   "source": [
    "#Dimension reduction to 3\n",
    "fv3=np.array([eigvec[:,0],eigvec[:,1],eigvec[:,2]])\n",
    "print(fv3)\n"
   ]
  },
  {
   "cell_type": "code",
   "execution_count": 219,
   "id": "1dc68053",
   "metadata": {},
   "outputs": [
    {
     "name": "stdout",
     "output_type": "stream",
     "text": [
      "[[-2.94828923e+01  1.19289030e+01 -2.04692165e+00  1.93276630e+01\n",
      "   2.16242226e+01  6.40627556e+00  4.66130210e+01 -7.13775006e+00\n",
      "   1.03509144e+01  1.04971699e+01 -2.72604998e+01 -4.19832147e+01\n",
      "  -1.51818109e+01  5.92378770e+01 -1.65749034e+01 -1.76792118e+00\n",
      "  -3.50946953e+01  5.25945277e+00 -1.02654285e+01  3.58032677e+01\n",
      "  -1.06815111e+01 -4.53363471e+00 -6.96645286e+00 -9.37279745e+00\n",
      "  -1.03762828e+01  5.95392209e+00 -8.42183110e+00 -5.27169976e+00\n",
      "  -3.13917454e+00  1.25567329e+01]\n",
      " [ 3.89604849e+00  3.23034894e+00 -1.77075749e+00 -1.17837492e+00\n",
      "   5.46351573e-01  6.66479197e+00  4.79014063e+00  4.36269663e+00\n",
      "  -3.51625545e-01  6.99064424e+00 -1.16165390e+00  1.70670896e+00\n",
      "   1.10365698e+01  1.41887596e+00  2.28862629e+00 -1.28033321e+01\n",
      "  -5.87980370e+00 -1.31397067e+01  3.83860817e+00 -5.73743432e+00\n",
      "   1.23898149e+00  1.69000470e+00  5.38876404e+00  3.07366830e+00\n",
      "  -9.61031628e+00 -8.80014782e+00 -1.00280815e+01  3.33808860e+00\n",
      "   4.06331284e+00  8.98002656e-01]\n",
      " [-7.34716269e-01 -4.11844797e-01  1.14744722e+00 -5.74959748e-01\n",
      "  -2.70494985e-03 -1.04928273e+00 -8.60275626e-01  3.65899290e-01\n",
      "  -1.27112006e+00  4.59775603e-01  2.83941234e-01 -9.60913387e-01\n",
      "  -2.30579792e-01 -6.06072035e-01 -6.80957285e-01 -8.03315202e-01\n",
      "  -7.33380439e-01  1.87122324e-01  1.07918287e+00  9.68073231e-01\n",
      "   1.24007356e+00  1.30247366e+00 -6.63056159e-01  8.34038128e-01\n",
      "  -3.16203760e-01 -2.22141019e-02  2.32609560e-01 -2.19068569e-01\n",
      "   9.10229442e-01  1.12979879e+00]]\n"
     ]
    }
   ],
   "source": [
    "#Three dimensional Principle Component Analysis (PCA)\n",
    "#Transformation\n",
    "\n",
    "\n",
    "# print(np.array(X-Xmean))\n",
    "# print(\"\\n\")\n",
    "# print(np.array(X-Xmean).T)\n",
    "# print(\"\\n\")\n",
    "Y=np.matmul(fv3,(X-Xmean).T)\n",
    "print(Y)"
   ]
  },
  {
   "cell_type": "code",
   "execution_count": 220,
   "id": "3d6c7add",
   "metadata": {},
   "outputs": [
    {
     "name": "stdout",
     "output_type": "stream",
     "text": [
      "[[ 77.60621083 136.00011905   9.81244913  12.4734576 ]\n",
      " [ 83.45682362 177.00013079   9.93847716  12.9609723 ]\n",
      " [ 76.2103868  164.00019909  10.79167488  13.68837442]\n",
      " [ 80.29843637 184.99997003   9.71910206  12.53185812]\n",
      " [ 82.31301235 187.00024942  10.110348    13.13488036]\n",
      " [ 86.01488275 171.00028527   9.63926987  12.69677187]\n",
      " [ 90.49635773 210.99993019   9.65473348  12.97420941]\n",
      " [ 81.50344696 158.00006607  10.47015779  13.52977012]\n",
      " [ 79.7505317  176.00001019   9.32390706  11.98916687]\n",
      " [ 86.86296502 175.00024851  10.56911021  13.93584456]\n",
      " [ 72.90077126 139.00001478  10.31017283  12.88428605]\n",
      " [ 73.49832227 123.99996784   9.6361177   12.03418283]\n",
      " [ 86.84807801 148.99996316  10.27972891  13.53915949]\n",
      " [ 89.1503987  224.00000764   9.71042822  12.99187677]\n",
      " [ 78.05605081 149.00011598   9.78826357  12.47671801]\n",
      " [ 65.5511249  166.00002156   9.31942265  11.27708074]\n",
      " [ 67.10224798 132.00004309   9.57879774  11.65419854]\n",
      " [ 66.25115534 173.00002215   9.91021887  12.07646052]\n",
      " [ 80.43890129 154.99978726  10.89970461  14.02613034]\n",
      " [ 78.29052434 201.99981837  10.53215664  13.49306163]\n",
      " [ 77.80285847 155.00005479  10.9347654   13.94176027]\n",
      " [ 79.21131602 161.0002169   10.97597931  14.06944208]\n",
      " [ 82.62029544 157.99943063   9.8630541   12.8052147 ]\n",
      " [ 79.84613556 155.99992593  10.72892262  13.77873588]\n",
      " [ 67.29730158 156.99994828   9.70942074  11.85497887]\n",
      " [ 70.6468685  172.99993998   9.88809318  12.26380266]\n",
      " [ 67.15166987 159.00003201  10.03367678  12.26597726]\n",
      " [ 80.83519702 159.99971626  10.08281666  13.00160279]\n",
      " [ 81.79701142 161.99994272  10.79183133  13.96089076]\n",
      " [ 81.1407171  177.99982207  10.82719852  13.98913418]]\n"
     ]
    }
   ],
   "source": [
    "#inverse transformation to get original data \n",
    "#recover the original data\n",
    "\n",
    "dr3=np.matmul(fv3.T,Y).T + Xmean\n",
    "\n",
    "print(dr3)"
   ]
  },
  {
   "cell_type": "code",
   "execution_count": 221,
   "id": "81420576",
   "metadata": {},
   "outputs": [
    {
     "name": "stdout",
     "output_type": "stream",
     "text": [
      "0.08845708085951672\n"
     ]
    }
   ],
   "source": [
    "#Mean Square Error\n",
    "mse=np.sum((X-dr3)**2)/30\n",
    "print(mse)\n"
   ]
  },
  {
   "cell_type": "code",
   "execution_count": 222,
   "id": "ad7b05f8",
   "metadata": {},
   "outputs": [
    {
     "data": {
      "image/png": "[encoded data removed]",
      "text/plain": [
       "<Figure size 640x480 with 1 Axes>"
      ]
     },
     "metadata": {},
     "output_type": "display_data"
    }
   ],
   "source": [
    "'''\n",
    "C) Plot the scatter plots to compares the features after reduction: feature1 vs feature2, feature1 vs\n",
    "feature3, feature2 v feature3\n",
    "'''\n",
    "# features=Y.T\n",
    "# print(features)\n",
    "\n",
    "plt.scatter(Y[0],Y[1])\n",
    "# plt.scatter(features[:,0],features[:,1])\n",
    "plt.title(\" feature1 vs feature2\")\n",
    "plt.xlabel(\" feature1 \")\n",
    "plt.ylabel(\" feature2 \")\n",
    "plt.show()"
   ]
  },
  {
   "cell_type": "code",
   "execution_count": 223,
   "id": "e9f1bc3c",
   "metadata": {},
   "outputs": [
    {
     "data": {
      "image/png": "[encoded data removed]",
      "text/plain": [
       "<Figure size 640x480 with 1 Axes>"
      ]
     },
     "metadata": {},
     "output_type": "display_data"
    }
   ],
   "source": [
    "plt.scatter(Y[0],Y[2],color=\"g\")\n",
    "plt.title(\" feature1 vs feature3\")\n",
    "plt.xlabel(\" feature1 \")\n",
    "plt.ylabel(\" feature3 \")\n",
    "plt.show()"
   ]
  },
  {
   "cell_type": "code",
   "execution_count": 224,
   "id": "095bf9dd",
   "metadata": {},
   "outputs": [
    {
     "data": {
      "image/png": "[encoded data removed]",
      "text/plain": [
       "<Figure size 640x480 with 1 Axes>"
      ]
     },
     "metadata": {},
     "output_type": "display_data"
    }
   ],
   "source": [
    "plt.scatter(Y[1],Y[2],color=\"r\")\n",
    "plt.title(\" feature2 vs feature3\")\n",
    "plt.xlabel(\" feature2 \")\n",
    "plt.ylabel(\" feature3 \")\n",
    "plt.show()"
   ]
  },
  {
   "cell_type": "code",
   "execution_count": 225,
   "id": "81b90958",
   "metadata": {},
   "outputs": [
    {
     "data": {
      "image/png": "[encoded data removed]",
      "text/plain": [
       "<Figure size 640x480 with 1 Axes>"
      ]
     },
     "metadata": {},
     "output_type": "display_data"
    }
   ],
   "source": [
    "# plt.scatter(Y[0],Y[1])\n",
    "# plt.scatter(Y[0],Y[2])\n",
    "# plt.scatter(Y[1],Y[2])\n",
    "# plt.show()"
   ]
  },
  {
   "cell_type": "code",
   "execution_count": null,
   "id": "f9c1ea92",
   "metadata": {},
   "outputs": [],
   "source": []
  }
 ],
 "metadata": {
  "kernelspec": {
   "display_name": "Python 3 (ipykernel)",
   "language": "python",
   "name": "python3"
  },
  "language_info": {
   "codemirror_mode": {
    "name": "ipython",
    "version": 3
   },
   "file_extension": ".py",
   "mimetype": "text/x-python",
   "name": "python",
   "nbconvert_exporter": "python",
   "pygments_lexer": "ipython3",
   "version": "3.11.0"
  }
 },
 "nbformat": 4,
 "nbformat_minor": 5
}
